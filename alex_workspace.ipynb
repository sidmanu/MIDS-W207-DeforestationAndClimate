{
 "cells": [
  {
   "cell_type": "code",
   "execution_count": 15,
   "metadata": {},
   "outputs": [],
   "source": [
    "# Import libraries\n",
    "\n",
    "import numpy as np\n",
    "from matplotlib import pyplot as plt\n",
    "import pandas as pd\n",
    "import seaborn as sns  # for nicer plots\n",
    "sns.set(style=\"darkgrid\")  # default style\n",
    "\n",
    "from sklearn.decomposition import PCA\n",
    "\n",
    "import tensorflow as tf\n",
    "from tensorflow import keras\n",
    "from keras import metrics\n"
   ]
  },
  {
   "cell_type": "code",
   "execution_count": 8,
   "metadata": {},
   "outputs": [
    {
     "name": "stdout",
     "output_type": "stream",
     "text": [
      "    Unnamed: 0  date      cdsd      cldd      dp01      dp10      dp1x  \\\n",
      "0            0  2001  0.334398  0.334398  0.465116  0.389831  0.185185   \n",
      "1            1  2002  0.417465  0.417465  0.360465  0.372881  0.296296   \n",
      "2            2  2003  0.418530  0.418530  0.627907  0.474576  0.185185   \n",
      "3            3  2004  0.177849  0.177849  0.279070  0.169492  0.259259   \n",
      "4            4  2005  0.329073  0.329073  0.744186  0.762712  0.555556   \n",
      "5            5  2006  0.308839  0.308839  0.744186  0.779661  0.111111   \n",
      "6            6  2007  0.172524  0.172524  0.337209  0.169492  0.185185   \n",
      "7            7  2008  0.202343  0.202343  0.395349  0.203390  0.259259   \n",
      "8            8  2009  0.238552  0.238552  0.534884  0.355932  0.259259   \n",
      "9            9  2010       NaN       NaN       NaN       NaN       NaN   \n",
      "10          10  2011  0.027689  0.027689  0.418605  0.440678  0.407407   \n",
      "11          11  2012  0.332268  0.332268  0.604651  0.542373  0.444444   \n",
      "12          12  2013  0.433440  0.433440  0.267442  0.016949  0.000000   \n",
      "13          13  2014  0.497338  0.497338  0.511628  0.338983  0.185185   \n",
      "\n",
      "        dsnd      dsnw      dt00  ...  tc_loss_ha_Uruguay  \\\n",
      "0   0.512987  0.583333  0.000000  ...            0.000892   \n",
      "1   0.467532  0.437500  0.153846  ...            0.000802   \n",
      "2   0.538961  0.416667  0.000000  ...            0.001238   \n",
      "3   0.564935  0.333333  0.076923  ...            0.001765   \n",
      "4   0.500000  0.520833  0.000000  ...            0.001857   \n",
      "5   0.610390  0.750000  0.000000  ...            0.002454   \n",
      "6   0.311688  0.187500  0.076923  ...            0.002512   \n",
      "7   0.474026  0.437500  0.000000  ...            0.002753   \n",
      "8   0.525974  0.437500  0.230769  ...            0.002250   \n",
      "9        NaN       NaN       NaN  ...            0.002080   \n",
      "10       NaN  0.479167  0.076923  ...            0.003267   \n",
      "11       NaN  0.541667  0.000000  ...            0.003662   \n",
      "12       NaN  0.000000  0.307692  ...            0.002248   \n",
      "13  0.000000  0.166667  0.000000  ...            0.002992   \n",
      "\n",
      "    tc_loss_ha_Uzbekistan  tc_loss_ha_Vanuatu  tc_loss_ha_Venezuela  \\\n",
      "0                0.000034            0.000014              0.014455   \n",
      "1                0.000031            0.000013              0.010545   \n",
      "2                0.000006            0.000062              0.010178   \n",
      "3                0.000006            0.000044              0.010617   \n",
      "4                0.000002            0.000030              0.011081   \n",
      "5                0.000006            0.000026              0.009975   \n",
      "6                0.000005            0.000013              0.013342   \n",
      "7                0.000005            0.000023              0.014069   \n",
      "8                0.000011            0.000128              0.016616   \n",
      "9                0.000004            0.000036              0.011818   \n",
      "10               0.000004            0.000071              0.008686   \n",
      "11               0.000006            0.000023              0.012364   \n",
      "12               0.000003            0.000130              0.007528   \n",
      "13               0.000010            0.000074              0.011782   \n",
      "\n",
      "    tc_loss_ha_Vietnam  tc_loss_ha_Virgin Islands, U.S.  tc_loss_ha_Zambia  \\\n",
      "0             0.005535                         0.000014           0.003515   \n",
      "1             0.005790                         0.000002           0.005395   \n",
      "2             0.005018                         0.000005           0.004895   \n",
      "3             0.008621                         0.000004           0.003324   \n",
      "4             0.011926                         0.000002           0.006711   \n",
      "5             0.009192                         0.000009           0.004726   \n",
      "6             0.009361                         0.000003           0.006261   \n",
      "7             0.012635                         0.000005           0.007722   \n",
      "8             0.016069                         0.000010           0.013749   \n",
      "9             0.020333                         0.000002           0.020301   \n",
      "10            0.015261                         0.000006           0.007010   \n",
      "11            0.021148                         0.000003           0.015113   \n",
      "12            0.015452                         0.000003           0.009899   \n",
      "13            0.025360                         0.000002           0.013444   \n",
      "\n",
      "    tc_loss_ha_Zimbabwe  tc_loss_ha_Åland  tc_loss_ha_average  \n",
      "0              0.000958          0.000046            0.006603  \n",
      "1              0.000935          0.000032            0.008135  \n",
      "2              0.000853          0.000026            0.007157  \n",
      "3              0.000983          0.000086            0.009843  \n",
      "4              0.001371          0.000082            0.008948  \n",
      "5              0.001737          0.000012            0.008726  \n",
      "6              0.001085          0.000029            0.009091  \n",
      "7              0.000634          0.000151            0.009202  \n",
      "8              0.002264          0.000079            0.008401  \n",
      "9              0.000774          0.000074            0.009173  \n",
      "10             0.001055          0.000054            0.008692  \n",
      "11             0.001611          0.000076            0.011635  \n",
      "12             0.001124          0.000060            0.010207  \n",
      "13             0.001125          0.000064            0.011734  \n",
      "\n",
      "[14 rows x 1135 columns]\n"
     ]
    }
   ],
   "source": [
    "# Read data\n",
    "\n",
    "df = pd.read_csv('/Users/achen1/MIDS-W207-DeforestationAndClimate/data/train.csv', sep='\\t')\n",
    "print(df)"
   ]
  },
  {
   "cell_type": "code",
   "execution_count": 13,
   "metadata": {},
   "outputs": [
    {
     "name": "stdout",
     "output_type": "stream",
     "text": [
      "Unnamed: 0                           int64\n",
      "date                                 int64\n",
      "cdsd                               float64\n",
      "cldd                               float64\n",
      "dp01                               float64\n",
      "                                    ...   \n",
      "tc_loss_ha_Virgin Islands, U.S.    float64\n",
      "tc_loss_ha_Zambia                  float64\n",
      "tc_loss_ha_Zimbabwe                float64\n",
      "tc_loss_ha_Åland                   float64\n",
      "tc_loss_ha_average                 float64\n",
      "Length: 1135, dtype: object\n"
     ]
    }
   ],
   "source": [
    "# Check data types\n",
    "\n",
    "print(df.dtypes)"
   ]
  },
  {
   "cell_type": "code",
   "execution_count": 25,
   "metadata": {},
   "outputs": [
    {
     "name": "stdout",
     "output_type": "stream",
     "text": [
      "0     0\n",
      "1     0\n",
      "2     0\n",
      "3     0\n",
      "4     0\n",
      "5     0\n",
      "6     0\n",
      "7     0\n",
      "8     0\n",
      "9     0\n",
      "10    0\n",
      "11    0\n",
      "12    0\n",
      "13    0\n",
      "dtype: int64\n"
     ]
    }
   ],
   "source": [
    "# Check for NaN\n",
    "\n",
    "nan_counts = df.isna().sum(axis=1)\n",
    "print(nan_counts)"
   ]
  },
  {
   "cell_type": "code",
   "execution_count": 22,
   "metadata": {},
   "outputs": [
    {
     "name": "stdout",
     "output_type": "stream",
     "text": [
      "['cdsd', 'cldd', 'dp01', 'dp10', 'dp1x', 'dsnd', 'dsnw', 'dt00', 'dt32', 'dx32', 'dx70', 'dx90', 'dyfg', 'dyts', 'emnt', 'emsd', 'emsn', 'emxp', 'emxt', 'fzf0', 'fzf1', 'fzf2', 'fzf3', 'fzf4', 'fzf5', 'fzf6', 'fzf7', 'fzf8', 'fzf9', 'hdsd', 'htdd', 'prcp', 'snow', 'tavg', 'tmax', 'tmin', 'wdmv']\n"
     ]
    }
   ],
   "source": [
    "# Columns with NaN\n",
    "\n",
    "nan_columns = columns_with_nan[columns_with_nan].index.tolist()\n",
    "print(nan_columns)"
   ]
  },
  {
   "cell_type": "code",
   "execution_count": 24,
   "metadata": {},
   "outputs": [
    {
     "name": "stdout",
     "output_type": "stream",
     "text": [
      "0      3\n",
      "1      3\n",
      "2      3\n",
      "3      3\n",
      "4      3\n",
      "5      3\n",
      "6      3\n",
      "7      3\n",
      "8      3\n",
      "9     35\n",
      "10     7\n",
      "11     5\n",
      "12     5\n",
      "13     3\n",
      "dtype: int64\n"
     ]
    }
   ],
   "source": [
    "# Replace NaNs with 0\n",
    "\n",
    "df.fillna(0, inplace=True)"
   ]
  },
  {
   "cell_type": "code",
   "execution_count": 26,
   "metadata": {},
   "outputs": [
    {
     "data": {
      "image/png": "[encoded data removed]",
      "text/plain": [
       "<Figure size 800x600 with 1 Axes>"
      ]
     },
     "metadata": {},
     "output_type": "display_data"
    }
   ],
   "source": [
    "# PCA\n",
    "\n",
    "pca = PCA(n_components=2)\n",
    "principal_components = pca.fit_transform(df)\n",
    "\n",
    "plt.figure(figsize=(8, 6))\n",
    "plt.scatter(principal_components[:, 0], principal_components[:, 1])\n",
    "plt.xlabel('Principal Component 1')\n",
    "plt.ylabel('Principal Component 2')\n",
    "plt.title('PCA of Dataset')\n",
    "plt.grid(True)\n",
    "plt.show()"
   ]
  },
  {
   "cell_type": "code",
   "execution_count": null,
   "metadata": {},
   "outputs": [],
   "source": []
  }
 ],
 "metadata": {
  "kernelspec": {
   "display_name": "base",
   "language": "python",
   "name": "python3"
  },
  "language_info": {
   "codemirror_mode": {
    "name": "ipython",
    "version": 3
   },
   "file_extension": ".py",
   "mimetype": "text/x-python",
   "name": "python",
   "nbconvert_exporter": "python",
   "pygments_lexer": "ipython3",
   "version": "3.11.4"
  }
 },
 "nbformat": 4,
 "nbformat_minor": 2
}
